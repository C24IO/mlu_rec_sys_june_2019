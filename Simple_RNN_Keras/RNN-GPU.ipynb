{
 "cells": [
  {
   "cell_type": "code",
   "execution_count": 1,
   "metadata": {},
   "outputs": [],
   "source": [
    "import tensorflow as tf\n",
    "from tensorflow.keras.models import Sequential\n",
    "from tensorflow.keras.layers import Dense, Dropout, LSTM, CuDNNLSTM"
   ]
  },
  {
   "cell_type": "code",
   "execution_count": 2,
   "metadata": {},
   "outputs": [],
   "source": [
    "mnist = tf.keras.datasets.mnist  # mnist is a dataset of 28x28 images of handwritten digits and their labels\n",
    "\n",
    "(x_train, y_train),(x_test, y_test) = mnist.load_data()  # unpacks images to x_train/x_test and labels to y_train/y_test\n"
   ]
  },
  {
   "cell_type": "code",
   "execution_count": 3,
   "metadata": {},
   "outputs": [],
   "source": [
    "x_train = x_train/255.0\n",
    "x_test = x_test/255.0\n"
   ]
  },
  {
   "cell_type": "code",
   "execution_count": 4,
   "metadata": {},
   "outputs": [
    {
     "name": "stdout",
     "output_type": "stream",
     "text": [
      "(60000, 28, 28)\n",
      "(28, 28)\n"
     ]
    }
   ],
   "source": [
    "\n",
    "print(x_train.shape)\n",
    "print(x_train[0].shape)\n"
   ]
  },
  {
   "cell_type": "code",
   "execution_count": 5,
   "metadata": {},
   "outputs": [
    {
     "name": "stdout",
     "output_type": "stream",
     "text": [
      "WARNING:tensorflow:From /home/ec2-user/anaconda3/envs/tensorflow_p36/lib/python3.6/site-packages/tensorflow/python/ops/resource_variable_ops.py:435: colocate_with (from tensorflow.python.framework.ops) is deprecated and will be removed in a future version.\n",
      "Instructions for updating:\n",
      "Colocations handled automatically by placer.\n",
      "WARNING:tensorflow:From /home/ec2-user/anaconda3/envs/tensorflow_p36/lib/python3.6/site-packages/tensorflow/python/keras/layers/core.py:143: calling dropout (from tensorflow.python.ops.nn_ops) with keep_prob is deprecated and will be removed in a future version.\n",
      "Instructions for updating:\n",
      "Please use `rate` instead of `keep_prob`. Rate should be set to `rate = 1 - keep_prob`.\n"
     ]
    }
   ],
   "source": [
    "\n",
    "model = Sequential()\n",
    "\n",
    "# IF you are running with a GPU, try out the CuDNNLSTM layer type instead (don't pass an activation, tanh is required)\n",
    "model.add(CuDNNLSTM(128, input_shape=(x_train.shape[1:]), return_sequences=True))\n",
    "model.add(Dropout(0.2))\n",
    "\n",
    "model.add(CuDNNLSTM(128))\n",
    "model.add(Dropout(0.1))\n",
    "\n",
    "model.add(Dense(32))\n",
    "model.add(Dropout(0.2))\n",
    "\n",
    "model.add(Dense(10))\n",
    "\n",
    "opt = tf.keras.optimizers.Adam(lr=1e-3, decay=1e-6)\n"
   ]
  },
  {
   "cell_type": "code",
   "execution_count": 6,
   "metadata": {},
   "outputs": [],
   "source": [
    "# Compile model\n",
    "model.compile(\n",
    "    loss='sparse_categorical_crossentropy',\n",
    "    optimizer=opt,\n",
    "    metrics=['accuracy'],\n",
    ")"
   ]
  },
  {
   "cell_type": "code",
   "execution_count": 7,
   "metadata": {},
   "outputs": [
    {
     "name": "stdout",
     "output_type": "stream",
     "text": [
      "Train on 60000 samples, validate on 10000 samples\n",
      "Epoch 1/10\n",
      "60000/60000 [==============================] - 15s 256us/sample - loss: 2.7988 - acc: 0.1012 - val_loss: 2.3026 - val_acc: 0.1135\n",
      "Epoch 2/10\n",
      "60000/60000 [==============================] - 13s 216us/sample - loss: 2.3052 - acc: 0.1010 - val_loss: 2.3026 - val_acc: 0.1009\n",
      "Epoch 3/10\n",
      "60000/60000 [==============================] - 13s 216us/sample - loss: 2.3026 - acc: 0.0997 - val_loss: 2.3026 - val_acc: 0.1009\n",
      "Epoch 4/10\n",
      "60000/60000 [==============================] - 13s 216us/sample - loss: 2.3029 - acc: 0.0996 - val_loss: 2.3026 - val_acc: 0.1009\n",
      "Epoch 5/10\n",
      "60000/60000 [==============================] - 13s 216us/sample - loss: 2.3039 - acc: 0.1001 - val_loss: 2.3026 - val_acc: 0.1032\n",
      "Epoch 6/10\n",
      "60000/60000 [==============================] - 13s 216us/sample - loss: 2.3029 - acc: 0.1004 - val_loss: 2.3026 - val_acc: 0.1032\n",
      "Epoch 7/10\n",
      "60000/60000 [==============================] - 13s 216us/sample - loss: 2.3026 - acc: 0.1011 - val_loss: 2.3026 - val_acc: 0.1032\n",
      "Epoch 8/10\n",
      "60000/60000 [==============================] - 13s 217us/sample - loss: 2.3066 - acc: 0.0992 - val_loss: 2.3026 - val_acc: 0.1009\n",
      "Epoch 9/10\n",
      "60000/60000 [==============================] - 13s 216us/sample - loss: 2.3026 - acc: 0.1002 - val_loss: 2.3026 - val_acc: 0.0958\n",
      "Epoch 10/10\n",
      "60000/60000 [==============================] - 13s 217us/sample - loss: 2.3058 - acc: 0.0990 - val_loss: 2.3026 - val_acc: 0.0958\n"
     ]
    },
    {
     "data": {
      "text/plain": [
       "<tensorflow.python.keras.callbacks.History at 0x7fe933e31048>"
      ]
     },
     "execution_count": 7,
     "metadata": {},
     "output_type": "execute_result"
    }
   ],
   "source": [
    "model.fit(x_train,\n",
    "          y_train,\n",
    "          epochs=10,\n",
    "          validation_data=(x_test, y_test))\n"
   ]
  },
  {
   "cell_type": "code",
   "execution_count": null,
   "metadata": {},
   "outputs": [],
   "source": []
  }
 ],
 "metadata": {
  "kernelspec": {
   "display_name": "conda_tensorflow_p36",
   "language": "python",
   "name": "conda_tensorflow_p36"
  },
  "language_info": {
   "codemirror_mode": {
    "name": "ipython",
    "version": 3
   },
   "file_extension": ".py",
   "mimetype": "text/x-python",
   "name": "python",
   "nbconvert_exporter": "python",
   "pygments_lexer": "ipython3",
   "version": "3.6.5"
  }
 },
 "nbformat": 4,
 "nbformat_minor": 2
}
